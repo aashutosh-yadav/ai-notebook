{
 "cells": [
  {
   "cell_type": "code",
   "execution_count": null,
   "metadata": {},
   "outputs": [],
   "source": [
    "import pandas as pd \n",
    "import numpy as np \n",
    "import tensorflow as tf \n",
    "import tensorflow_data_validation as tfdv \n",
    "from tensorflow_metadata.proto.v0 import schema_pb2\n"
   ]
  },
  {
   "cell_type": "code",
   "execution_count": null,
   "metadata": {},
   "outputs": [],
   "source": [
    "df = pd.read_csv('diabetic_data.csv')\n",
    "df.head()\n"
   ]
  },
  {
   "cell_type": "code",
   "execution_count": null,
   "metadata": {},
   "outputs": [],
   "source": [
    "#spliting the data set for train test and serving set\n",
    "\n",
    "def perpare_dataset(df):\n",
    "\n",
    "    train_set = int(len(df)* 0.7)\n",
    "    eval_len  = int(len(df)*0.3)\n",
    "\n",
    "    eval_set = eval_len//2 \n",
    "\n",
    "    serving_set = train_set - eval_set\n",
    "\n",
    "    train_df = df.iloc[:train_set].reset_index(drop=True)\n",
    "    eval_df = df.iloc[train_set: train_set+eval_set].reset_index(drop=True)\n",
    "    serving_df = df.iloc[train_set+ eval_set: train_set + eval_len +serving_set].reset_index(drop=True)\n",
    "\n",
    "    serving_df = serving_df.drop(['readmitted'], axis=1)\n",
    "\n",
    "    return train_df, eval_df , serving_df"
   ]
  },
  {
   "cell_type": "code",
   "execution_count": null,
   "metadata": {},
   "outputs": [],
   "source": [
    "train_df , eval_df , serving_df = perpare_dataset(df)\n",
    "print('Training dataset has {} records\\nValidation dataset has {} records\\nServing dataset has {} records'.format(len(train_df),len(eval_df),len(serving_df)))"
   ]
  },
  {
   "cell_type": "code",
   "execution_count": null,
   "metadata": {},
   "outputs": [],
   "source": [
    "features_to_remove = {'encounter_id', 'patient_nbr'}\n",
    "approved_cols = [col for col in df.columns if (col not in features_to_remove)]\n",
    "stats_options = tfdv.StatsOptions(feature_allowlist=approved_cols)\n",
    "for feature in stats_options.feature_allowlist:\n",
    "    print(feature)"
   ]
  },
  {
   "cell_type": "code",
   "execution_count": null,
   "metadata": {},
   "outputs": [],
   "source": []
  }
 ],
 "metadata": {
  "kernelspec": {
   "display_name": "Python 3 (ipykernel)",
   "language": "python",
   "name": "python3"
  },
  "language_info": {
   "codemirror_mode": {
    "name": "ipython",
    "version": 3
   },
   "file_extension": ".py",
   "mimetype": "text/x-python",
   "name": "python",
   "nbconvert_exporter": "python",
   "pygments_lexer": "ipython3",
   "version": "3.10.12"
  }
 },
 "nbformat": 4,
 "nbformat_minor": 4
}
